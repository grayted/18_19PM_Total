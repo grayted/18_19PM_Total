{
 "cells": [
  {
   "cell_type": "code",
   "execution_count": 60,
   "id": "dfadfd28",
   "metadata": {},
   "outputs": [
    {
     "name": "stdout",
     "output_type": "stream",
     "text": [
      "2210\n",
      "JSON data has been written to C:\\Users\\about\\OneDrive\\바탕 화면\\3_2\\Business Analytics\\TeamProJ\\preprocessing\\2210.json\n",
      "2211\n",
      "JSON data has been written to C:\\Users\\about\\OneDrive\\바탕 화면\\3_2\\Business Analytics\\TeamProJ\\preprocessing\\2211.json\n",
      "2212\n",
      "JSON data has been written to C:\\Users\\about\\OneDrive\\바탕 화면\\3_2\\Business Analytics\\TeamProJ\\preprocessing\\2212.json\n",
      "2213\n",
      "JSON data has been written to C:\\Users\\about\\OneDrive\\바탕 화면\\3_2\\Business Analytics\\TeamProJ\\preprocessing\\2213.json\n",
      "2214\n",
      "JSON data has been written to C:\\Users\\about\\OneDrive\\바탕 화면\\3_2\\Business Analytics\\TeamProJ\\preprocessing\\2214.json\n"
     ]
    }
   ],
   "source": [
    "import csv\n",
    "import json\n",
    "\n",
    "for i in range(2210, 2215):\n",
    "    print(i)\n",
    "    # Convert the integer to a string using str()\n",
    "    i_str = str(i)\n",
    "\n",
    "    data_csv = 'C:\\\\Users\\\\about\\\\OneDrive\\\\바탕 화면\\\\3_2\\\\Business Analytics\\\\TeamProJ\\\\preprocessing\\\\' + i_str + '.csv'\n",
    "    json_file_path = 'C:\\\\Users\\\\about\\\\OneDrive\\\\바탕 화면\\\\3_2\\\\Business Analytics\\\\TeamProJ\\\\preprocessing\\\\' + i_str + '.json'\n",
    "    \n",
    "    data = []\n",
    "    with open(data_csv, 'r', encoding='cp949') as csv_file:\n",
    "        reader = csv.DictReader(csv_file)\n",
    "        data = list(reader)\n",
    "\n",
    "    # Writing JSON data to a file\n",
    "    with open(json_file_path, 'w', encoding='utf-8') as json_file:\n",
    "        json.dump(data, json_file, ensure_ascii=False, indent=\"\\t\")\n",
    "\n",
    "    print(f\"JSON data has been written to {json_file_path}\")\n"
   ]
  },
  {
   "cell_type": "code",
   "execution_count": null,
   "id": "2af8553d",
   "metadata": {},
   "outputs": [],
   "source": [
    "import json\n",
    "\n",
    "json_file_path1 = 'C:\\\\Users\\\\about\\\\OneDrive\\\\바탕 화면\\\\3_2\\\\Business Analytics\\\\TeamProJ\\\\preprocessing\\\\2303.json'\n",
    "json_file_path2 = 'C:\\\\Users\\\\about\\\\OneDrive\\\\바탕 화면\\\\3_2\\\\Business Analytics\\\\TeamProJ\\\\preprocessing\\\\2304.json'\n",
    "\n",
    "with open(json_file_path1, encoding='utf-8') as file_1:\n",
    "    data1 = json.load(file_1)\n",
    "\n",
    "with open(json_file_path2, encoding='utf-8') as file_2:\n",
    "    data2 = json.load(file_2)\n",
    "\n",
    "\n",
    "# Merging data1 and data2\n",
    "merged_data = data1 + data2\n",
    "\n",
    "# Writing merged data to a new JSON file\n",
    "new_file_path = 'C:\\\\Users\\\\about\\\\OneDrive\\\\바탕 화면\\\\3_2\\\\Business Analytics\\\\TeamProJ\\\\preprocessing\\\\newfile.json'\n",
    "with open(new_file_path, 'w', encoding='utf-8') as new_file:\n",
    "    json.dump(merged_data, new_file, ensure_ascii=False, indent=2)\n",
    "    \n"
   ]
  },
  {
   "cell_type": "code",
   "execution_count": 66,
   "id": "bb7b551a",
   "metadata": {},
   "outputs": [],
   "source": [
    "import json\n",
    "\n",
    "newfile_path = 'C:\\\\Users\\\\about\\\\OneDrive\\\\바탕 화면\\\\3_2\\\\Business Analytics\\\\TeamProJ\\\\preprocessing\\\\newfile.json'\n",
    "\n",
    "# Load the contents of the newfile\n",
    "with open(newfile_path, encoding='utf-8') as newfile:\n",
    "    newfile_data = json.load(newfile)\n",
    "\n",
    "# Initialize merged_data as an empty list\n",
    "merged_data = []\n",
    "\n",
    "for i in range(2210, 2215):\n",
    "    i_str = str(i)\n",
    "\n",
    "    json_file_path = 'C:\\\\Users\\\\about\\\\OneDrive\\\\바탕 화면\\\\3_2\\\\Business Analytics\\\\TeamProJ\\\\preprocessing\\\\' + i_str + '.json'\n",
    "    with open(json_file_path, encoding='utf-8') as file_1:\n",
    "        data1 = json.load(file_1)\n",
    "    \n",
    "    # Append data1 to merged_data\n",
    "    merged_data += data1\n",
    "\n",
    "# Append the contents of newfile_data to merged_data\n",
    "merged_data += newfile_data\n",
    "\n",
    "new_file_path = 'C:\\\\Users\\\\about\\\\OneDrive\\\\바탕 화면\\\\3_2\\\\Business Analytics\\\\TeamProJ\\\\preprocessing\\\\Newfile.json'\n",
    "with open(new_file_path, 'w', encoding='utf-8') as new_file:\n",
    "    json.dump(merged_data, new_file, ensure_ascii=False, indent=2)\n"
   ]
  }
 ],
 "metadata": {
  "kernelspec": {
   "display_name": "Python 3 (ipykernel)",
   "language": "python",
   "name": "python3"
  },
  "language_info": {
   "codemirror_mode": {
    "name": "ipython",
    "version": 3
   },
   "file_extension": ".py",
   "mimetype": "text/x-python",
   "name": "python",
   "nbconvert_exporter": "python",
   "pygments_lexer": "ipython3",
   "version": "3.11.3"
  }
 },
 "nbformat": 4,
 "nbformat_minor": 5
}
